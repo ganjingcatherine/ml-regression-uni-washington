{
 "cells": [
  {
   "cell_type": "markdown",
   "metadata": {
    "deletable": true,
    "editable": true
   },
   "source": [
    "Regression Week 4: Ridge Regression Assignment 2\n",
    "\n",
    "In this assignment, you will implement ridge regression via gradient descent. You will:\n",
    "\n",
    "- Convert an SFrame into a Numpy array (if applicable)\n",
    "- Write a Numpy function to compute the derivative of the regression weights with respect to a single feature\n",
    "- Write gradient descent function to compute the regression weights given an initial weight vector, step size, tolerance, and L2 penalty"
   ]
  },
  {
   "cell_type": "code",
   "execution_count": 1,
   "metadata": {
    "collapsed": true,
    "deletable": true,
    "editable": true
   },
   "outputs": [],
   "source": [
    "import pandas as pd\n",
    "import matplotlib.pyplot as plt\n",
    "import numpy as np\n",
    "from sklearn import linear_model\n",
    "\n",
    "import warnings\n",
    "warnings.filterwarnings(action=\"ignore\")"
   ]
  },
  {
   "cell_type": "code",
   "execution_count": 2,
   "metadata": {
    "collapsed": true,
    "deletable": true,
    "editable": true
   },
   "outputs": [],
   "source": [
    "dtype_dict = {\n",
    "    'bathrooms':float, \n",
    "    'waterfront':int, \n",
    "    'sqft_above':int, \n",
    "    'sqft_living15':float, \n",
    "    'grade':int, \n",
    "    'yr_renovated':int, \n",
    "    'price':float, \n",
    "    'bedrooms':float, \n",
    "    'zipcode':str, \n",
    "    'long':float,\n",
    "    'sqft_lot15':float,\n",
    "    'sqft_living':float,\n",
    "    'floors':str,\n",
    "    'condition':int,\n",
    "    'lat':float,\n",
    "    'date':str,\n",
    "    'sqft_basement':int,\n",
    "    'yr_built':int,\n",
    "    'id':str,\n",
    "    'sqft_lot':int,\n",
    "    'view':int\n",
    "}\n",
    "\n",
    "sales = pd.read_csv('kc_house_data.csv', dtype=dtype_dict)"
   ]
  },
  {
   "cell_type": "markdown",
   "metadata": {
    "deletable": true,
    "editable": true
   },
   "source": [
    "From Module 2, copy and paste the ‘get_numpy_data’ function (or equivalent) that takes a dataframe, a list of features (e.g. [‘sqft_living’, ‘bedrooms’]), to be used as inputs, and a name of the output (e.g. ‘price’). This function returns a ‘feature_matrix’ (2D array) consisting of first a column of ones followed by columns containing the values of the input features in the data set in the same order as the input list. It alsos return an ‘output_array’ which is an array of the values of the output in the data set (e.g. ‘price’).\n",
    "\n"
   ]
  },
  {
   "cell_type": "code",
   "execution_count": 3,
   "metadata": {
    "collapsed": true,
    "deletable": true,
    "editable": true
   },
   "outputs": [],
   "source": [
    "def get_numpy_data(data_frame, features, output):\n",
    "\n",
    "    features_matrix = np.array([np.ones(len(data_frame))] + [data_frame[feature] for feature in features])\n",
    "\n",
    "    output_array = np.array(data_frame[output])\n",
    "    \n",
    "    return features_matrix.T, output_array"
   ]
  },
  {
   "cell_type": "markdown",
   "metadata": {
    "deletable": true,
    "editable": true
   },
   "source": [
    "Similarly, copy and paste the ‘predict_output’ function (or equivalent) from Module 2. This function accepts a 2D array ‘feature_matrix’ and a 1D array ‘weights’ and return a 1D array ‘predictions’.\n",
    "\n"
   ]
  },
  {
   "cell_type": "code",
   "execution_count": 4,
   "metadata": {
    "collapsed": true,
    "deletable": true,
    "editable": true
   },
   "outputs": [],
   "source": [
    "def predict_outcome(feature_matrix, weights):\n",
    "    return feature_matrix.dot(weights)"
   ]
  },
  {
   "cell_type": "markdown",
   "metadata": {
    "collapsed": true,
    "deletable": true,
    "editable": true
   },
   "source": [
    "We are now going to move to computing the derivative of the regression cost function. Recall that the cost function is the sum over the data points of the squared difference between an observed output and a predicted output, plus the L2 penalty term."
   ]
  },
  {
   "cell_type": "code",
   "execution_count": 5,
   "metadata": {
    "collapsed": true,
    "deletable": true,
    "editable": true
   },
   "outputs": [],
   "source": [
    "def feature_derivative_ridge(errors, feature, weight, l2_penalty, feature_is_constant):\n",
    "    if (feature_is_constant): return 2 * np.sum(errors)\n",
    "    \n",
    "    dRSSdw = 2 * np.sum(errors * feature)\n",
    "    dL2dw = 2 * l2_penalty * weight\n",
    "    \n",
    "    return dRSSdw + dL2dw"
   ]
  },
  {
   "cell_type": "code",
   "execution_count": 6,
   "metadata": {
    "collapsed": false,
    "deletable": true,
    "editable": true
   },
   "outputs": [
    {
     "name": "stdout",
     "output_type": "stream",
     "text": [
      "-5.6554166816e+13\n",
      "-5.6554166816e+13\n",
      "\n",
      "-22446749330.0\n",
      "-22446749330.0\n"
     ]
    }
   ],
   "source": [
    "example_features, example_output= get_numpy_data(sales, ['sqft_living'], 'price')\n",
    "my_weights = np.array([1., 10.])\n",
    "\n",
    "test_predictions = predict_outcome(example_features, my_weights)\n",
    "errors = test_predictions - example_output\n",
    "\n",
    "# next two lines should print the same values\n",
    "print(feature_derivative_ridge(errors, example_features[:,1], my_weights[1], 1, False))\n",
    "print(np.sum(errors*example_features[:,1])*2+20.)\n",
    "print('')\n",
    "\n",
    "# next two lines should print the same values\n",
    "print(feature_derivative_ridge(errors, example_features[:,0], my_weights[0], 1, True))\n",
    "print(np.sum(errors)*2.)"
   ]
  },
  {
   "cell_type": "markdown",
   "metadata": {
    "deletable": true,
    "editable": true
   },
   "source": [
    "Now we will write a function that performs a gradient descent. The basic premise is simple. Given a starting point we update the current weights by moving in the negative gradient direction. Recall that the gradient is the direction of increase and therefore the negative gradient is the direction of decrease and we're trying to minimize a cost function.\n",
    "\n",
    "The amount by which we move in the negative gradient direction is called the ‘step size’. We stop when we are ‘sufficiently close’ to the optimum. Unlike in Module 2, this time we will set a maximum number of iterations and take gradient steps until we reach this maximum number. If no maximum number is supplied, the maximum should be set 100 by default. (Use default parameter values in Python.)\n",
    "\n",
    "With this in mind, write a gradient descent function using your derivative function above. For each step in the gradient descent, we update the weight for each feature before computing our stopping criteria. The function will take the following parameters:\n",
    "\n",
    "- 2D feature matrix\n",
    "- array of output values\n",
    "- initial weights\n",
    "- step size\n",
    "- L2 penalty\n",
    "- maximum number of iterations"
   ]
  },
  {
   "cell_type": "code",
   "execution_count": 7,
   "metadata": {
    "collapsed": false,
    "deletable": true,
    "editable": true
   },
   "outputs": [],
   "source": [
    "def ridge_regression_gradient_descent(feature_matrix, output, initial_weights, step_size, l2_penalty, max_iterations=100):\n",
    "    weights = np.array(initial_weights)\n",
    "    \n",
    "    iteration = 0\n",
    "    \n",
    "    while iteration < max_iterations:\n",
    "        iteration += 1\n",
    "       \n",
    "        test_predictions = predict_outcome(feature_matrix, weights)\n",
    "        errors = test_predictions - output\n",
    "        \n",
    "        for i in range(len(weights)):\n",
    "            weights[i] -= step_size * feature_derivative_ridge(\n",
    "                errors, \n",
    "                feature_matrix[:,i], \n",
    "                weights[i], \n",
    "                l2_penalty,\n",
    "                i == 0\n",
    "            )\n",
    "            \n",
    "    return weights"
   ]
  },
  {
   "cell_type": "markdown",
   "metadata": {
    "deletable": true,
    "editable": true
   },
   "source": [
    "Convert the training set and test set using the ‘get_numpy_data’ function.e.g. in Python:\n"
   ]
  },
  {
   "cell_type": "code",
   "execution_count": 8,
   "metadata": {
    "collapsed": false,
    "deletable": true,
    "editable": true
   },
   "outputs": [],
   "source": [
    "test_data = pd.read_csv('kc_house_test_data.csv', dtype=dtype_dict)\n",
    "train_data = pd.read_csv('kc_house_train_data.csv', dtype=dtype_dict)"
   ]
  },
  {
   "cell_type": "code",
   "execution_count": 9,
   "metadata": {
    "collapsed": false,
    "deletable": true,
    "editable": true
   },
   "outputs": [],
   "source": [
    "simple_features = ['sqft_living']\n",
    "my_output = 'price'\n",
    "(simple_feature_matrix, output) = get_numpy_data(train_data, simple_features, my_output)\n"
   ]
  },
  {
   "cell_type": "markdown",
   "metadata": {
    "deletable": true,
    "editable": true
   },
   "source": [
    "First, let’s consider no regularization. Set the L2 penalty to 0.0 and run your ridge regression algorithm to learn the weights of the simple model (described above). Use the following parameters:\n",
    "\n",
    "- step_size = 1e-12\n",
    "- max_iterations = 1000\n",
    "- initial_weights = all zeros\n",
    "\n",
    "Store the learned weights as simple_weights_0_penalty\n"
   ]
  },
  {
   "cell_type": "code",
   "execution_count": 10,
   "metadata": {
    "collapsed": false,
    "deletable": true,
    "editable": true
   },
   "outputs": [
    {
     "data": {
      "text/plain": [
       "array([ -1.63113515e-01,   2.63024369e+02])"
      ]
     },
     "execution_count": 10,
     "metadata": {},
     "output_type": "execute_result"
    }
   ],
   "source": [
    "simple_weights_0_penalty = ridge_regression_gradient_descent(simple_feature_matrix, output, np.zeros(len(simple_feature_matrix[0])), 1e-12, 0., 1000)\n",
    "simple_weights_0_penalty"
   ]
  },
  {
   "cell_type": "code",
   "execution_count": 11,
   "metadata": {
    "collapsed": false,
    "deletable": true,
    "editable": true
   },
   "outputs": [
    {
     "data": {
      "image/png": "[encoded data removed]",
      "text/plain": [
       "<matplotlib.figure.Figure at 0x10affeb70>"
      ]
     },
     "metadata": {},
     "output_type": "display_data"
    }
   ],
   "source": [
    "fig, ax = plt.subplots()\n",
    "\n",
    "ax.scatter(x=train_data['sqft_living'], y=train_data['price'])\n",
    "ax.plot(train_data['sqft_living'], predict_outcome(simple_feature_matrix, simple_weights_0_penalty), color='green')\n",
    "plt.show()"
   ]
  },
  {
   "cell_type": "markdown",
   "metadata": {
    "deletable": true,
    "editable": true
   },
   "source": [
    "Next, let’s consider high regularization. Set the L2 penalty to 1e11 and run your ridge regression to learn the weights of the simple model. Use the same parameters as above. Call your weights simple_weights_high_penalty\n",
    "\n"
   ]
  },
  {
   "cell_type": "code",
   "execution_count": 12,
   "metadata": {
    "collapsed": false,
    "deletable": true,
    "editable": true
   },
   "outputs": [
    {
     "data": {
      "text/plain": [
       "array([   9.76730382,  124.57217567])"
      ]
     },
     "execution_count": 12,
     "metadata": {},
     "output_type": "execute_result"
    }
   ],
   "source": [
    "simple_weights_high_penalty = ridge_regression_gradient_descent(simple_feature_matrix, output, np.zeros(len(simple_feature_matrix[0])), 1e-12, 1e11, 1000)\n",
    "simple_weights_high_penalty"
   ]
  },
  {
   "cell_type": "code",
   "execution_count": 13,
   "metadata": {
    "collapsed": false,
    "deletable": true,
    "editable": true
   },
   "outputs": [
    {
     "data": {
      "image/png": "[encoded data removed]",
      "text/plain": [
       "<matplotlib.figure.Figure at 0x10b0292b0>"
      ]
     },
     "metadata": {},
     "output_type": "display_data"
    }
   ],
   "source": [
    "fig, ax = plt.subplots()\n",
    "\n",
    "ax.scatter(x=train_data['sqft_living'], y=train_data['price'])\n",
    "ax.plot(train_data['sqft_living'], predict_outcome(simple_feature_matrix, simple_weights_high_penalty), color='green')\n",
    "plt.show()"
   ]
  },
  {
   "cell_type": "code",
   "execution_count": 14,
   "metadata": {
    "collapsed": false,
    "deletable": true,
    "editable": true
   },
   "outputs": [
    {
     "data": {
      "text/plain": [
       "(263.02436896538489, 124.57217567413909)"
      ]
     },
     "execution_count": 14,
     "metadata": {},
     "output_type": "execute_result"
    }
   ],
   "source": [
    "simple_weights_0_penalty[1], simple_weights_high_penalty[1]"
   ]
  },
  {
   "cell_type": "markdown",
   "metadata": {
    "deletable": true,
    "editable": true
   },
   "source": [
    "Compute the RSS on the TEST data for the following three sets of weights:\n",
    "\n",
    "- The initial weights (all zeros)\n",
    "- The weights learned with no regularization\n",
    "- The weights learned with high regularization"
   ]
  },
  {
   "cell_type": "code",
   "execution_count": 15,
   "metadata": {
    "collapsed": true,
    "deletable": true,
    "editable": true
   },
   "outputs": [],
   "source": [
    "rss = lambda y, y_hat: np.dot((y - y_hat).T, (y - y_hat))"
   ]
  },
  {
   "cell_type": "code",
   "execution_count": 16,
   "metadata": {
    "collapsed": false,
    "deletable": true,
    "editable": true
   },
   "outputs": [
    {
     "name": "stdout",
     "output_type": "stream",
     "text": [
      "1.78427328614e+15\n",
      "2.75723632154e+14\n",
      "6.9464210149e+14\n"
     ]
    }
   ],
   "source": [
    "simple_test_feature_matrix, test_output = get_numpy_data(test_data, simple_features, my_output)\n",
    "\n",
    "print(rss(test_output, predict_outcome(simple_test_feature_matrix, np.zeros(len(simple_test_feature_matrix[0])))))\n",
    "print(rss(test_output, predict_outcome(simple_test_feature_matrix, simple_weights_0_penalty)))\n",
    "print(rss(test_output, predict_outcome(simple_test_feature_matrix, simple_weights_high_penalty)))"
   ]
  },
  {
   "cell_type": "markdown",
   "metadata": {
    "deletable": true,
    "editable": true
   },
   "source": [
    "Let us now consider a model with 2 features: [ ‘sqft_living’, ‘sqft_living_15’]. First, create Numpy version of your training and test data with the two features."
   ]
  },
  {
   "cell_type": "markdown",
   "metadata": {
    "deletable": true,
    "editable": true
   },
   "source": [
    "First, let’s consider no regularization. Set the L2 penalty to 0.0 and run your ridge regression algorithm. Use the following parameters:\n",
    "\n",
    "- initial_weights = all zeros\n",
    "- step size = 1e-12\n",
    "- max_iterations = 1000\n",
    "\n",
    "Call the learned weights multiple_weights_0_penalty"
   ]
  },
  {
   "cell_type": "code",
   "execution_count": 17,
   "metadata": {
    "collapsed": false,
    "deletable": true,
    "editable": true
   },
   "outputs": [
    {
     "name": "stdout",
     "output_type": "stream",
     "text": [
      "[  -0.35743483  243.05416982   22.41481497]\n",
      "[  6.74296579  91.48927365  78.43658766]\n"
     ]
    },
    {
     "data": {
      "text/plain": [
       "(243.05416982095636, 91.489273647123937)"
      ]
     },
     "execution_count": 17,
     "metadata": {},
     "output_type": "execute_result"
    }
   ],
   "source": [
    "model_features = ['sqft_living', 'sqft_living15']\n",
    "my_output = 'price'\n",
    "\n",
    "feature_matrix, output = get_numpy_data(train_data, model_features, my_output)\n",
    "test_feature_matrix, test_output = get_numpy_data(test_data, model_features, my_output)\n",
    "\n",
    "multiple_weights_0_penalty = ridge_regression_gradient_descent(\n",
    "    feature_matrix, \n",
    "    output, \n",
    "    np.zeros(len(feature_matrix[0])), \n",
    "    1e-12, \n",
    "    0.0,\n",
    "    1000\n",
    ")\n",
    "\n",
    "multiple_weights_high_penalty = ridge_regression_gradient_descent(\n",
    "    feature_matrix, \n",
    "    output, \n",
    "    np.zeros(len(feature_matrix[0])), \n",
    "    1e-12, \n",
    "    1e11,\n",
    "    1000\n",
    ")\n",
    "print(multiple_weights_0_penalty)\n",
    "print(multiple_weights_high_penalty)\n",
    "multiple_weights_0_penalty[1], multiple_weights_high_penalty[1]"
   ]
  },
  {
   "cell_type": "code",
   "execution_count": 18,
   "metadata": {
    "collapsed": false,
    "deletable": true,
    "editable": true
   },
   "outputs": [
    {
     "name": "stdout",
     "output_type": "stream",
     "text": [
      "1.78427328614e+15\n",
      "2.74067615919e+14\n",
      "5.00404800501e+14\n"
     ]
    }
   ],
   "source": [
    "print(rss(test_output, predict_outcome(test_feature_matrix, np.zeros(len(test_feature_matrix[0])))))\n",
    "print(rss(test_output, predict_outcome(test_feature_matrix, multiple_weights_0_penalty)))\n",
    "print(rss(test_output, predict_outcome(test_feature_matrix, multiple_weights_high_penalty)))"
   ]
  },
  {
   "cell_type": "code",
   "execution_count": 20,
   "metadata": {
    "collapsed": false,
    "deletable": true,
    "editable": true
   },
   "outputs": [
    {
     "data": {
      "text/plain": [
       "False"
      ]
     },
     "execution_count": 20,
     "metadata": {},
     "output_type": "execute_result"
    }
   ],
   "source": [
    "output[0] - predict_outcome(test_feature_matrix, multiple_weights_0_penalty)[0] > output[0] - predict_outcome(test_feature_matrix, multiple_weights_high_penalty)[0]"
   ]
  },
  {
   "cell_type": "code",
   "execution_count": null,
   "metadata": {
    "collapsed": true
   },
   "outputs": [],
   "source": []
  }
 ],
 "metadata": {
  "kernelspec": {
   "display_name": "Python (tensorflow)",
   "language": "python",
   "name": "tensorflow"
  },
  "language_info": {
   "codemirror_mode": {
    "name": "ipython",
    "version": 3
   },
   "file_extension": ".py",
   "mimetype": "text/x-python",
   "name": "python",
   "nbconvert_exporter": "python",
   "pygments_lexer": "ipython3",
   "version": "3.5.1"
  }
 },
 "nbformat": 4,
 "nbformat_minor": 2
}
