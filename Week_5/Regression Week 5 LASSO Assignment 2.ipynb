{
 "cells": [
  {
   "cell_type": "markdown",
   "metadata": {
    "deletable": true,
    "editable": true
   },
   "source": [
    "# Regression Week 5: LASSO Assignment 2\n",
    "\n",
    "In this notebook, you will implement your very own LASSO solver via coordinate descent. You will:\n",
    "\n",
    "- Write a function to normalize features\n",
    "- Implement coordinate descent for LASSO\n",
    "- Explore effects of L1 penalty"
   ]
  },
  {
   "cell_type": "code",
   "execution_count": 1,
   "metadata": {
    "collapsed": true,
    "deletable": true,
    "editable": true
   },
   "outputs": [],
   "source": [
    "import pandas as pd\n",
    "\n",
    "dtype_dict = {'bathrooms':float, 'waterfront':int, 'sqft_above':int, 'sqft_living15':float, 'grade':int, 'yr_renovated':int, 'price':float, 'bedrooms':float, 'zipcode':str, 'long':float, 'sqft_lot15':float, 'sqft_living':float, 'floors':float, 'condition':int, 'lat':float, 'date':str, 'sqft_basement':int, 'yr_built':int, 'id':str, 'sqft_lot':int, 'view':int}\n",
    "\n",
    "sales = pd.read_csv('kc_house_data.csv', dtype=dtype_dict)"
   ]
  },
  {
   "cell_type": "code",
   "execution_count": 2,
   "metadata": {
    "collapsed": true,
    "deletable": true,
    "editable": true
   },
   "outputs": [],
   "source": [
    "import numpy as np"
   ]
  },
  {
   "cell_type": "code",
   "execution_count": 3,
   "metadata": {
    "collapsed": true
   },
   "outputs": [],
   "source": [
    "def get_numpy_data(data_frame, features, output):\n",
    "\n",
    "    features_matrix = np.array([np.ones(len(data_frame))] + [data_frame[feature] for feature in features])\n",
    "\n",
    "    output_array = np.array(data_frame[output])\n",
    "    \n",
    "    return features_matrix.T, output_array"
   ]
  },
  {
   "cell_type": "code",
   "execution_count": 4,
   "metadata": {
    "collapsed": true
   },
   "outputs": [],
   "source": [
    "def predict_outcome(feature_matrix, weights):\n",
    "    return feature_matrix.dot(weights)"
   ]
  },
  {
   "cell_type": "code",
   "execution_count": 5,
   "metadata": {
    "collapsed": true
   },
   "outputs": [],
   "source": [
    "def normalize_features(features):\n",
    "    \n",
    "    norms = np.linalg.norm(features, axis=0)\n",
    "    normalized_features = features / norms\n",
    "    \n",
    "    return normalized_features, norms"
   ]
  },
  {
   "cell_type": "markdown",
   "metadata": {},
   "source": [
    "## Effect of L1 penalty\n",
    "\n",
    "9. Consider a simple model with 2 features: ‘sqft_living’ and ‘bedrooms’. The output is ‘price’.\n",
    "\n",
    "- First, run get_numpy_data() (or equivalent) to obtain a feature matrix with 3 columns (constant column added). Use the entire ‘sales’ dataset for now.\n",
    "- Normalize columns of the feature matrix. Save the norms of original features as ‘norms’.\n",
    "- Set initial weights to [1,4,1].\n",
    "- Make predictions with feature matrix and initial weights.\n",
    "- Compute values of ro[i], where"
   ]
  },
  {
   "cell_type": "code",
   "execution_count": 6,
   "metadata": {
    "collapsed": false
   },
   "outputs": [],
   "source": [
    "features, output = get_numpy_data(sales, ['sqft_living', 'bedrooms'], 'price')\n",
    "\n",
    "normalized_features, norms = normalize_features(features)\n",
    "\n",
    "initial_weights = np.array([1,4,1])\n",
    "\n",
    "prediction = np.dot(normalized_features, initial_weights)\n",
    "\n",
    "ro = []\n",
    "\n",
    "for i in range(len(initial_weights)):\n",
    "    ro.append(np.sum(normalized_features[:,i] * (output - prediction + initial_weights[i] * normalized_features[:,i])))"
   ]
  },
  {
   "cell_type": "code",
   "execution_count": 7,
   "metadata": {
    "collapsed": false
   },
   "outputs": [
    {
     "data": {
      "text/plain": [
       "[79400300.014522895, 87939470.823251754, 80966698.66623947]"
      ]
     },
     "execution_count": 7,
     "metadata": {},
     "output_type": "execute_result"
    }
   ],
   "source": [
    "ro"
   ]
  },
  {
   "cell_type": "markdown",
   "metadata": {},
   "source": [
    "       ┌ (ro[i] + lambda/2)    if ro[i] < -lambda/2\n",
    "w[i] = ├ 0                     if -lambda/2 <= ro[i] <= lambda/2\n",
    "       └ (ro[i] - lambda/2)    if ro[i] > lambda/2"
   ]
  },
  {
   "cell_type": "code",
   "execution_count": 8,
   "metadata": {
    "collapsed": false
   },
   "outputs": [
    {
     "data": {
      "text/plain": [
       "(175878940, 161933396)"
      ]
     },
     "execution_count": 8,
     "metadata": {},
     "output_type": "execute_result"
    }
   ],
   "source": [
    "87939470 * 2, 80966698 * 2"
   ]
  },
  {
   "cell_type": "markdown",
   "metadata": {},
   "source": [
    "# Single Coordinate Descent Step\n",
    "\n",
    "12. Using the formula above, implement coordinate descent that minimizes the cost function over a single feature i. Note that the intercept (weight 0) is not regularized. The function should accept feature matrix, output, current weights, l1 penalty, and index of feature to optimize over. The function should return new weight for feature i."
   ]
  },
  {
   "cell_type": "code",
   "execution_count": 9,
   "metadata": {
    "collapsed": false
   },
   "outputs": [],
   "source": [
    "def lasso_coordinate_descent_step(i, feature_matrix, output, weights, l1_penalty):\n",
    "    # compute prediction\n",
    "    prediction = np.dot(feature_matrix, weights)\n",
    "    # compute ro[i] = SUM[ [feature_i]*(output - prediction + weight[i]*[feature_i]) ]\n",
    "    ro_i = np.sum(feature_matrix[:,i] * (output - prediction + weights[i] * feature_matrix[:,i]))\n",
    "    \n",
    "    if i == 0: # intercept -- do not regularize\n",
    "        new_weight_i = ro_i\n",
    "    elif ro_i < -l1_penalty/2.:\n",
    "        new_weight_i = ro_i + l1_penalty/2\n",
    "    elif ro_i > l1_penalty/2.:\n",
    "        new_weight_i = ro_i - l1_penalty/2\n",
    "    else:\n",
    "        new_weight_i = 0.\n",
    "    \n",
    "    return new_weight_i"
   ]
  },
  {
   "cell_type": "code",
   "execution_count": 10,
   "metadata": {
    "collapsed": false
   },
   "outputs": [
    {
     "name": "stdout",
     "output_type": "stream",
     "text": [
      "0.425558846691\n"
     ]
    }
   ],
   "source": [
    "# should print 0.425558846691\n",
    "import math\n",
    "print(lasso_coordinate_descent_step(1, np.array([[3./math.sqrt(13),1./math.sqrt(10)],\n",
    "                   [2./math.sqrt(13),3./math.sqrt(10)]]), np.array([1., 1.]), np.array([1., 4.]), 0.1))"
   ]
  },
  {
   "cell_type": "markdown",
   "metadata": {},
   "source": [
    "# Cyclical coordinate descent\n",
    "\n",
    "## 13. Now that we have a function that optimizes the cost function over a single coordinate, let us implement cyclical coordinate descent where we optimize coordinates 0, 1, ..., (d-1) in order and repeat.\n",
    "\n",
    "When do we know to stop? Each time we scan all the coordinates (features) once, we measure the change in weight for each coordinate. If no coordinate changes by more than a specified threshold, we stop.\n",
    "\n",
    "For each i§mteration:\n",
    "\n",
    "- As you loop over features in order and perform coordinate descent, measure how much each coordinate changes.\n",
    "- After the loop, if the maximum change across all coordinates is falls below the tolerance, stop. Otherwise, go back to the previous step.\n",
    "- Return weights\n",
    "\n",
    "The function should accept the following parameters:\n",
    "\n",
    "- Feature matrix\n",
    "- Output array\n",
    "- Initial weights\n",
    "- L1 penalty\n",
    "- Tolerance"
   ]
  },
  {
   "cell_type": "code",
   "execution_count": 20,
   "metadata": {
    "collapsed": true
   },
   "outputs": [],
   "source": [
    "def lasso_cyclical_coordinate_descent(feature_matrix, output, initial_weights, l1_penalty, tolerance):\n",
    "    \n",
    "    weights = [w for w in initial_weights]\n",
    "\n",
    "    maximum_change = None\n",
    "    \n",
    "    while(maximum_change == None or maximum_change >= tolerance):\n",
    "        maximum_change = None\n",
    "\n",
    "        for i in range(len(initial_weights)):\n",
    "            new_weight = lasso_coordinate_descent_step(i, feature_matrix, output, weights, l1_penalty)\n",
    "            delta = abs(new_weight - weights[i])\n",
    "            if (maximum_change == None or delta > maximum_change): maximum_change = delta\n",
    "            weights[i] = new_weight\n",
    "    \n",
    "    return weights    \n",
    "    "
   ]
  },
  {
   "cell_type": "code",
   "execution_count": 21,
   "metadata": {
    "collapsed": false
   },
   "outputs": [
    {
     "data": {
      "text/plain": [
       "[21624997.959519088, 63157247.207889557, 0.0]"
      ]
     },
     "execution_count": 21,
     "metadata": {},
     "output_type": "execute_result"
    }
   ],
   "source": [
    "feature_matrix = normalized_features\n",
    "l1_penalty = 1e7\n",
    "tolerance = 1.0\n",
    "initial_weights = np.array([0,0,0])\n",
    "weights = lasso_cyclical_coordinate_descent(feature_matrix, output, initial_weights, l1_penalty, tolerance)\n",
    "weights"
   ]
  },
  {
   "cell_type": "code",
   "execution_count": 22,
   "metadata": {
    "collapsed": true
   },
   "outputs": [],
   "source": [
    "rss = lambda y, y_hat: np.dot((y - y_hat).T, (y - y_hat))"
   ]
  },
  {
   "cell_type": "code",
   "execution_count": 23,
   "metadata": {
    "collapsed": false
   },
   "outputs": [
    {
     "data": {
      "text/plain": [
       "1630492476715387.0"
      ]
     },
     "execution_count": 23,
     "metadata": {},
     "output_type": "execute_result"
    }
   ],
   "source": [
    "rss(output, np.dot(feature_matrix, weights))"
   ]
  },
  {
   "cell_type": "code",
   "execution_count": 24,
   "metadata": {
    "collapsed": false
   },
   "outputs": [],
   "source": [
    "testing = pd.read_csv('kc_house_test_data.csv', dtype=dtype_dict)\n",
    "training = pd.read_csv('kc_house_train_data.csv', dtype=dtype_dict)\n"
   ]
  },
  {
   "cell_type": "code",
   "execution_count": 25,
   "metadata": {
    "collapsed": false
   },
   "outputs": [],
   "source": [
    "feature_list = [\n",
    "    'bedrooms', \n",
    "    'bathrooms', \n",
    "    'sqft_living', \n",
    "    'sqft_lot', \n",
    "    'floors', \n",
    "    'waterfront', \n",
    "    'view', \n",
    "    'condition', \n",
    "    'grade',\n",
    "    'sqft_above', \n",
    "    'sqft_basement', \n",
    "    'yr_built', \n",
    "    'yr_renovated'\n",
    "]\n",
    "training_features, training_output = get_numpy_data(training, feature_list, 'price')\n",
    "training_features, norms = normalize_features(training_features)\n"
   ]
  },
  {
   "cell_type": "markdown",
   "metadata": {},
   "source": [
    "First, learn the weights with l1_penalty=1e7, on the training data. Initialize weights to all zeros, and set the tolerance=1. Call resulting weights’ weights1e7’, you will need them later."
   ]
  },
  {
   "cell_type": "code",
   "execution_count": 26,
   "metadata": {
    "collapsed": false
   },
   "outputs": [
    {
     "data": {
      "text/plain": [
       "[24429600.234403118,\n",
       " 0.0,\n",
       " 0.0,\n",
       " 48389174.771548964,\n",
       " 0.0,\n",
       " 0.0,\n",
       " 3317511.2149216533,\n",
       " 7329961.8117142543,\n",
       " 0.0,\n",
       " 0.0,\n",
       " 0.0,\n",
       " 0.0,\n",
       " 0.0,\n",
       " 0.0]"
      ]
     },
     "execution_count": 26,
     "metadata": {},
     "output_type": "execute_result"
    }
   ],
   "source": [
    "weights1e7 = lasso_cyclical_coordinate_descent(\n",
    "    feature_matrix=training_features,\n",
    "    output=training_output,\n",
    "    initial_weights=np.zeros(len(feature_list) + 1),\n",
    "    l1_penalty=1e7, \n",
    "    tolerance=1.0\n",
    ")\n",
    "weights1e7"
   ]
  },
  {
   "cell_type": "code",
   "execution_count": 38,
   "metadata": {
    "collapsed": false
   },
   "outputs": [
    {
     "name": "stdout",
     "output_type": "stream",
     "text": [
      "['intercept' 'sqft_living' 'waterfront' 'view']\n"
     ]
    }
   ],
   "source": [
    "print(np.array(['intercept'] + feature_list)[np.array(weights1e7) != 0.])"
   ]
  },
  {
   "cell_type": "code",
   "execution_count": 39,
   "metadata": {
    "collapsed": false
   },
   "outputs": [
    {
     "name": "stdout",
     "output_type": "stream",
     "text": [
      "['intercept']\n"
     ]
    },
    {
     "data": {
      "text/plain": [
       "([71114625.714887023,\n",
       "  0.0,\n",
       "  0.0,\n",
       "  0.0,\n",
       "  0.0,\n",
       "  0.0,\n",
       "  0.0,\n",
       "  0.0,\n",
       "  0.0,\n",
       "  0.0,\n",
       "  0.0,\n",
       "  0.0,\n",
       "  0.0,\n",
       "  0.0],\n",
       " None)"
      ]
     },
     "execution_count": 39,
     "metadata": {},
     "output_type": "execute_result"
    }
   ],
   "source": [
    "weights1e8 = lasso_cyclical_coordinate_descent(\n",
    "    feature_matrix=training_features,\n",
    "    output=training_output,\n",
    "    initial_weights=np.zeros(len(feature_list) + 1),\n",
    "    l1_penalty=1e8, \n",
    "    tolerance=1.0\n",
    ")\n",
    "weights1e8, print(np.array(['intercept'] + feature_list)[np.array(weights1e8) != 0.])"
   ]
  },
  {
   "cell_type": "code",
   "execution_count": 40,
   "metadata": {
    "collapsed": false
   },
   "outputs": [
    {
     "name": "stdout",
     "output_type": "stream",
     "text": [
      "['intercept' 'bedrooms' 'bathrooms' 'sqft_living' 'sqft_lot' 'floors'\n",
      " 'waterfront' 'view' 'condition' 'grade' 'sqft_above' 'sqft_basement'\n",
      " 'yr_built' 'yr_renovated']\n"
     ]
    },
    {
     "data": {
      "text/plain": [
       "([78564738.341567621,\n",
       "  -22097398.92430532,\n",
       "  12791071.872785171,\n",
       "  93808088.092811927,\n",
       "  -2013172.7570495396,\n",
       "  -4219184.9326501433,\n",
       "  6482842.8175350642,\n",
       "  7127408.5348068858,\n",
       "  5001664.8546964023,\n",
       "  14327518.437140508,\n",
       "  -15770959.152373968,\n",
       "  -5159591.2221314702,\n",
       "  -84495341.768436402,\n",
       "  2824439.4970368347],\n",
       " None)"
      ]
     },
     "execution_count": 40,
     "metadata": {},
     "output_type": "execute_result"
    }
   ],
   "source": [
    "weights1e4 = lasso_cyclical_coordinate_descent(\n",
    "    feature_matrix=training_features,\n",
    "    output=training_output,\n",
    "    initial_weights=np.zeros(len(feature_list) + 1),\n",
    "    l1_penalty=1e4, \n",
    "    tolerance=5e5\n",
    ")\n",
    "weights1e4, print(np.array(['intercept'] + feature_list)[np.array(weights1e4) != 0.])"
   ]
  },
  {
   "cell_type": "code",
   "execution_count": 42,
   "metadata": {
    "collapsed": false
   },
   "outputs": [
    {
     "name": "stdout",
     "output_type": "stream",
     "text": [
      "161.317457646\n"
     ]
    }
   ],
   "source": [
    "testing = pd.read_csv('kc_house_test_data.csv', dtype=dtype_dict)\n",
    "\n",
    "feature_list = [\n",
    "    'bedrooms', \n",
    "    'bathrooms', \n",
    "    'sqft_living', \n",
    "    'sqft_lot', \n",
    "    'floors', \n",
    "    'waterfront', \n",
    "    'view', \n",
    "    'condition', \n",
    "    'grade',\n",
    "    'sqft_above', \n",
    "    'sqft_basement', \n",
    "    'yr_built', \n",
    "    'yr_renovated'\n",
    "]\n",
    "test_features, test_output = get_numpy_data(testing, feature_list, 'price')\n",
    "\n",
    "normalized_weights1e7 = weights1e7 / norms\n",
    "normalized_weights1e8 = weights1e8 / norms\n",
    "normalized_weights1e4 = weights1e4 / norms\n",
    "\n",
    "print(normalized_weights1e7[3])"
   ]
  },
  {
   "cell_type": "code",
   "execution_count": 45,
   "metadata": {
    "collapsed": false
   },
   "outputs": [
    {
     "name": "stdout",
     "output_type": "stream",
     "text": [
      "2.7596207592e+14\n",
      "5.37166151497e+14\n",
      "2.28459958971e+14\n"
     ]
    }
   ],
   "source": [
    "print(rss(test_output, np.dot(test_features, normalized_weights1e7)))\n",
    "print(rss(test_output, np.dot(test_features, normalized_weights1e8)))\n",
    "print(rss(test_output, np.dot(test_features, normalized_weights1e4)))"
   ]
  },
  {
   "cell_type": "code",
   "execution_count": null,
   "metadata": {
    "collapsed": true
   },
   "outputs": [],
   "source": []
  }
 ],
 "metadata": {
  "kernelspec": {
   "display_name": "Python (tensorflow)",
   "language": "python",
   "name": "tensorflow"
  },
  "language_info": {
   "codemirror_mode": {
    "name": "ipython",
    "version": 3
   },
   "file_extension": ".py",
   "mimetype": "text/x-python",
   "name": "python",
   "nbconvert_exporter": "python",
   "pygments_lexer": "ipython3",
   "version": "3.5.1"
  }
 },
 "nbformat": 4,
 "nbformat_minor": 2
}
